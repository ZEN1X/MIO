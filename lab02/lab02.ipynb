{
 "cells": [
  {
   "cell_type": "markdown",
   "id": "105d8280503e7952",
   "metadata": {},
   "source": [
    "## Zadanie 1\n",
    "\n",
    "Proszę pobrać plik medicine.txt, zawierający wyniki analizy nowego leku. W dwóch pierwszych kolumnach znajduje się stężenie dwóch składników w próbce krwi, w trzeciej - informacja o tym, czy lek zadziałał. Dane nie są znormalizowane. Proszę znormalizować dane, podzielić je na zbiór uczący i testujący w proporcjach 80-20 (należy pamiętać o proporcjach klas), zaproponować wielowarstwową sieć neuronową i zbadać jej skuteczność dla różnych ilości warstw i neuronów w tych warstwach. Proszę narysować w jaki sposób sieć dokonała podziału w zbiorze dla kilku sieci (zarówno tych z dobrymi, jak i złymi wynikami) oraz jak wygląda poprawny podział zbioru. Proszę również przedstawić wyniki dla 5-8 różnych struktur sieci, wraz z oceną, która z nich najlepiej poradziła sobie z zadaniem klasyfikacji"
   ]
  },
  {
   "cell_type": "code",
   "execution_count": 36,
   "id": "initial_id",
   "metadata": {
    "ExecuteTime": {
     "end_time": "2025-03-18T14:16:28.435006Z",
     "start_time": "2025-03-18T14:16:28.417804Z"
    },
    "collapsed": true
   },
   "outputs": [
    {
     "name": "stdout",
     "output_type": "stream",
     "text": [
      "Architecture (5,) -> Accuracy: 0.863\n",
      "Architecture (10,) -> Accuracy: 0.8704\n",
      "Architecture (10, 5) -> Accuracy: 0.9\n",
      "Architecture (50,) -> Accuracy: 0.8926\n",
      "Architecture (20, 10, 5) -> Accuracy: 0.8963\n",
      "Architecture (50, 30, 20, 10) -> Accuracy: 0.9\n",
      "Architecture (100,) -> Accuracy: 0.8852\n",
      "Architecture (50, 25) -> Accuracy: 0.9074\n",
      "\n",
      "Best network: (50, 25), with accuracy: 0.9074\n",
      "Best network: (5,), with accuracy: 0.863\n"
     ]
    },
    {
     "data": {
      "text/plain": [
       "<sklearn.metrics._plot.confusion_matrix.ConfusionMatrixDisplay at 0x11a6a7890>"
      ]
     },
     "execution_count": 36,
     "metadata": {},
     "output_type": "execute_result"
    },
    {
     "data": {
      "image/png": "[encoded data removed]",
      "text/plain": [
       "<Figure size 640x480 with 2 Axes>"
      ]
     },
     "metadata": {},
     "output_type": "display_data"
    }
   ],
   "source": [
    "import matplotlib.pyplot as plt\n",
    "import pandas as pd\n",
    "import os\n",
    "from sklearn.preprocessing import StandardScaler\n",
    "from sklearn.model_selection import train_test_split\n",
    "from sklearn.neural_network import MLPClassifier\n",
    "from sklearn.metrics import accuracy_score, confusion_matrix, ConfusionMatrixDisplay\n",
    "\n",
    "# load data\n",
    "medicine_data = pd.read_csv(os.path.join(\"data\", \"medicine.txt\"))\n",
    "X, y = (\n",
    "    medicine_data.drop(\"Was medicine effective?\", axis=1),\n",
    "    medicine_data[\"Was medicine effective?\"],\n",
    ")\n",
    "\n",
    "# print(medicine_data.describe())\n",
    "\n",
    "\n",
    "# find outliers -> 3-sigma rule\n",
    "def find_and_remove_outliers(X, y):\n",
    "    n_cols, n_rows = X.shape\n",
    "\n",
    "    feature_means = X.mean()\n",
    "    feature_stdevs = X.std()\n",
    "\n",
    "    outlier_mask = ((X < feature_means - 3 * feature_stdevs) | (X > feature_means + 3 * feature_stdevs)).any(axis=1)\n",
    "\n",
    "    X_cleaned = X[~outlier_mask]\n",
    "    y_cleaned = y[~outlier_mask]\n",
    "\n",
    "    return X_cleaned, y_cleaned\n",
    "\n",
    "\n",
    "def scale_data(X, y):\n",
    "    scaler = StandardScaler()\n",
    "    return scaler.fit_transform(X, y)\n",
    "\n",
    "\n",
    "def prepare_data(X, y, train_size=0.8):\n",
    "    X, y = find_and_remove_outliers(X, y)\n",
    "    X = scale_data(X, y)\n",
    "\n",
    "    X_train, X_test, y_train, y_test = train_test_split(\n",
    "        X, y, train_size=train_size, stratify=y\n",
    "    )\n",
    "\n",
    "    return X_train, X_test, y_train, y_test\n",
    "\n",
    "\n",
    "X_train, X_test, y_train, y_test = prepare_data(X, y)\n",
    "\n",
    "# no sense in testing networks, where no of neurons increase in futher layers\n",
    "architectures = [\n",
    "    (5,),\n",
    "    (10,),\n",
    "    (10, 5),\n",
    "    (50,),\n",
    "    (20, 10, 5),\n",
    "    (50, 30, 20, 10),\n",
    "    (100,),\n",
    "    (50, 25),\n",
    "]\n",
    "\n",
    "results = {}\n",
    "\n",
    "for arch in architectures:\n",
    "    mlp = MLPClassifier(hidden_layer_sizes=arch, max_iter=2000)\n",
    "    mlp.fit(X_train, y_train)\n",
    "    \n",
    "    y_pred = mlp.predict(X_test)\n",
    "    accuracy = accuracy_score(y_test, y_pred)\n",
    "    \n",
    "    results[arch] = accuracy\n",
    "    print(f\"Architecture {arch} -> Accuracy: {accuracy:.4}\")\n",
    "\n",
    "best_arch = max(results, key=results.get)\n",
    "worst_arch = min(results, key=results.get)\n",
    "\n",
    "print(f'\\nBest network: {best_arch}, with accuracy: {results[best_arch]:.4}')\n",
    "print(f'Best network: {worst_arch}, with accuracy: {results[worst_arch]:.4}')\n",
    "\n",
    "# conf matrix for the best network\n",
    "best_mlp = MLPClassifier(hidden_layer_sizes=best_arch, max_iter=1000, random_state=42)\n",
    "best_mlp.fit(X_train, y_train)\n",
    "y_pred_best = best_mlp.predict(X_test)\n",
    "\n",
    "conf_matrix = confusion_matrix(y_test, y_pred_best)\n",
    "disp = ConfusionMatrixDisplay(conf_matrix, display_labels=X)\n",
    "disp.plot()\n",
    "# plt.xlabel('Predicted')\n",
    "# plt.ylabel('Actual')\n",
    "# plt.title(f'Confusion Matrix for Best Network {best_arch}')\n",
    "# plt.show()"
   ]
  }
 ],
 "metadata": {
  "kernelspec": {
   "display_name": ".venv",
   "language": "python",
   "name": "python3"
  },
  "language_info": {
   "codemirror_mode": {
    "name": "ipython",
    "version": 3
   },
   "file_extension": ".py",
   "mimetype": "text/x-python",
   "name": "python",
   "nbconvert_exporter": "python",
   "pygments_lexer": "ipython3",
   "version": "3.13.2"
  }
 },
 "nbformat": 4,
 "nbformat_minor": 5
}
